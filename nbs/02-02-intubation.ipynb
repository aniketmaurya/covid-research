{
 "cells": [
  {
   "cell_type": "code",
   "execution_count": 1,
   "metadata": {},
   "outputs": [],
   "source": [
    "import sys\n",
    "sys.path.append('../')"
   ]
  },
  {
   "cell_type": "code",
   "execution_count": 2,
   "metadata": {},
   "outputs": [
    {
     "data": {
      "text/plain": [
       "<torch._C.Generator at 0x7fbe82f4d310>"
      ]
     },
     "execution_count": 2,
     "metadata": {},
     "output_type": "execute_result"
    }
   ],
   "source": [
    "import torchxrayvision as xrv\n",
    "# from torchxrayvision.datasets import COVID19_Dataset\n",
    "from src.xrayvision import COVID19_Dataset\n",
    "import torchvision\n",
    "\n",
    "import torch\n",
    "import pandas as pd\n",
    "\n",
    "from tqdm.auto import tqdm, trange\n",
    "import numpy as np\n",
    "from PIL import Image\n",
    "import matplotlib.pyplot as plt\n",
    "import random\n",
    "import seaborn as sns\n",
    "%matplotlib inline\n",
    "\n",
    "random.seed(19)\n",
    "np.random.seed(19)\n",
    "torch.manual_seed(19)"
   ]
  },
  {
   "cell_type": "code",
   "execution_count": 3,
   "metadata": {},
   "outputs": [],
   "source": [
    "from sklearn.neighbors import KNeighborsClassifier\n",
    "from sklearn.metrics import f1_score, recall_score, precision_score, roc_auc_score, plot_confusion_matrix, plot_roc_curve"
   ]
  },
  {
   "cell_type": "code",
   "execution_count": 4,
   "metadata": {},
   "outputs": [],
   "source": [
    "from src.visualization import show_images"
   ]
  },
  {
   "cell_type": "code",
   "execution_count": 5,
   "metadata": {},
   "outputs": [],
   "source": [
    "EXPORT = True"
   ]
  },
  {
   "cell_type": "code",
   "execution_count": 6,
   "metadata": {},
   "outputs": [],
   "source": [
    "model = xrv.models.DenseNet(weights='all') # CheXpert (Stanford)\n",
    "model = model.eval()\n",
    "\n",
    "transform = torchvision.transforms.Compose([xrv.datasets.XRayCenterCrop(),xrv.datasets.XRayResizer(224)])\n",
    "\n",
    "d_covid19 = COVID19_Dataset(\n",
    "    '/Users/aniket/Google Drive/Projects/covid-research/data/covid-chestxray-dataset/images',\n",
    "    '/Users/aniket/Google Drive/Projects/covid-research/data/covid-chestxray-dataset/metadata.csv',\n",
    "    transform=transform\n",
    ")"
   ]
  },
  {
   "cell_type": "code",
   "execution_count": 7,
   "metadata": {},
   "outputs": [
    {
     "data": {
      "text/html": [
       "<div>\n",
       "<style scoped>\n",
       "    .dataframe tbody tr th:only-of-type {\n",
       "        vertical-align: middle;\n",
       "    }\n",
       "\n",
       "    .dataframe tbody tr th {\n",
       "        vertical-align: top;\n",
       "    }\n",
       "\n",
       "    .dataframe thead th {\n",
       "        text-align: right;\n",
       "    }\n",
       "</style>\n",
       "<table border=\"1\" class=\"dataframe\">\n",
       "  <thead>\n",
       "    <tr style=\"text-align: right;\">\n",
       "      <th></th>\n",
       "      <th>Aspergillosis</th>\n",
       "      <th>Aspiration</th>\n",
       "      <th>Bacterial</th>\n",
       "      <th>COVID-19</th>\n",
       "      <th>Chlamydophila</th>\n",
       "      <th>Fungal</th>\n",
       "      <th>H1N1</th>\n",
       "      <th>Herpes</th>\n",
       "      <th>Influenza</th>\n",
       "      <th>Klebsiella</th>\n",
       "      <th>...</th>\n",
       "      <th>No Finding</th>\n",
       "      <th>Nocardia</th>\n",
       "      <th>Pneumocystis</th>\n",
       "      <th>Pneumonia</th>\n",
       "      <th>SARS</th>\n",
       "      <th>Staphylococcus</th>\n",
       "      <th>Streptococcus</th>\n",
       "      <th>Tuberculosis</th>\n",
       "      <th>Varicella</th>\n",
       "      <th>Viral</th>\n",
       "    </tr>\n",
       "  </thead>\n",
       "  <tbody>\n",
       "    <tr>\n",
       "      <th>0.0</th>\n",
       "      <td>534</td>\n",
       "      <td>534</td>\n",
       "      <td>487</td>\n",
       "      <td>193</td>\n",
       "      <td>534</td>\n",
       "      <td>512</td>\n",
       "      <td>534</td>\n",
       "      <td>532</td>\n",
       "      <td>531</td>\n",
       "      <td>526</td>\n",
       "      <td>...</td>\n",
       "      <td>520</td>\n",
       "      <td>531</td>\n",
       "      <td>513</td>\n",
       "      <td>26</td>\n",
       "      <td>519</td>\n",
       "      <td>534</td>\n",
       "      <td>518</td>\n",
       "      <td>524</td>\n",
       "      <td>530</td>\n",
       "      <td>157</td>\n",
       "    </tr>\n",
       "    <tr>\n",
       "      <th>1.0</th>\n",
       "      <td>1</td>\n",
       "      <td>1</td>\n",
       "      <td>48</td>\n",
       "      <td>342</td>\n",
       "      <td>1</td>\n",
       "      <td>23</td>\n",
       "      <td>1</td>\n",
       "      <td>3</td>\n",
       "      <td>4</td>\n",
       "      <td>9</td>\n",
       "      <td>...</td>\n",
       "      <td>15</td>\n",
       "      <td>4</td>\n",
       "      <td>22</td>\n",
       "      <td>509</td>\n",
       "      <td>16</td>\n",
       "      <td>1</td>\n",
       "      <td>17</td>\n",
       "      <td>11</td>\n",
       "      <td>5</td>\n",
       "      <td>378</td>\n",
       "    </tr>\n",
       "  </tbody>\n",
       "</table>\n",
       "<p>2 rows × 25 columns</p>\n",
       "</div>"
      ],
      "text/plain": [
       "     Aspergillosis  Aspiration  Bacterial  COVID-19  Chlamydophila  Fungal  \\\n",
       "0.0            534         534        487       193            534     512   \n",
       "1.0              1           1         48       342              1      23   \n",
       "\n",
       "     H1N1  Herpes   Influenza  Klebsiella  ...  No Finding  Nocardia  \\\n",
       "0.0   534      532        531         526  ...         520       531   \n",
       "1.0     1        3          4           9  ...          15         4   \n",
       "\n",
       "     Pneumocystis  Pneumonia  SARS  Staphylococcus  Streptococcus  \\\n",
       "0.0           513         26   519             534            518   \n",
       "1.0            22        509    16               1             17   \n",
       "\n",
       "     Tuberculosis  Varicella  Viral  \n",
       "0.0           524        530    157  \n",
       "1.0            11          5    378  \n",
       "\n",
       "[2 rows x 25 columns]"
      ]
     },
     "execution_count": 7,
     "metadata": {},
     "output_type": "execute_result"
    }
   ],
   "source": [
    "data_dict = {'Aspergillosis': {0.0: 534, 1.0: 1},\n",
    " 'Aspiration': {0.0: 534, 1.0: 1},\n",
    " 'Bacterial': {0.0: 487, 1.0: 48},\n",
    " 'COVID-19': {0.0: 193, 1.0: 342},\n",
    " 'Chlamydophila': {0.0: 534, 1.0: 1},\n",
    " 'Fungal': {0.0: 512, 1.0: 23},\n",
    " 'H1N1': {0.0: 534, 1.0: 1},\n",
    " 'Herpes ': {0.0: 532, 1.0: 3},\n",
    " 'Influenza': {0.0: 531, 1.0: 4},\n",
    " 'Klebsiella': {0.0: 526, 1.0: 9},\n",
    " 'Legionella': {0.0: 526, 1.0: 9},\n",
    " 'Lipoid': {0.0: 527, 1.0: 8},\n",
    " 'MERS-CoV': {0.0: 527, 1.0: 8},\n",
    " 'MRSA': {0.0: 534, 1.0: 1},\n",
    " 'Mycoplasma': {0.0: 530, 1.0: 5},\n",
    " 'No Finding': {0.0: 520, 1.0: 15},\n",
    " 'Nocardia': {0.0: 531, 1.0: 4},\n",
    " 'Pneumocystis': {0.0: 513, 1.0: 22},\n",
    " 'Pneumonia': {0.0: 26, 1.0: 509},\n",
    " 'SARS': {0.0: 519, 1.0: 16},\n",
    " 'Staphylococcus': {0.0: 534, 1.0: 1},\n",
    " 'Streptococcus': {0.0: 518, 1.0: 17},\n",
    " 'Tuberculosis': {0.0: 524, 1.0: 11},\n",
    " 'Varicella': {0.0: 530, 1.0: 5},\n",
    " 'Viral': {0.0: 157, 1.0: 378}}\n",
    "table = pd.DataFrame.from_dict(data_dict);table"
   ]
  },
  {
   "cell_type": "code",
   "execution_count": 8,
   "metadata": {},
   "outputs": [
    {
     "data": {
      "text/plain": [
       "True"
      ]
     },
     "execution_count": 8,
     "metadata": {},
     "output_type": "execute_result"
    }
   ],
   "source": [
    "np.isnan(d_covid19[56]['intubated'])"
   ]
  },
  {
   "cell_type": "code",
   "execution_count": 9,
   "metadata": {},
   "outputs": [
    {
     "data": {
      "text/plain": [
       "{'idx': 335,\n",
       " 'lab': array([0., 0., 0., 1., 0., 0., 0., 0., 0., 0., 0., 0., 0., 0., 0., 0., 0.,\n",
       "        0., 1., 0., 0., 0., 0., 0., 1.], dtype=float32),\n",
       " 'intubated': nan,\n",
       " 'img': array([[[-532.6877 , -583.04865, -580.68427, ..., -576.04205,\n",
       "          -577.40686, -531.8482 ],\n",
       "         [-763.0932 , -814.43933, -817.7728 , ..., -831.5728 ,\n",
       "          -832.1598 , -766.07825],\n",
       "         [-769.4719 , -850.18835, -862.8646 , ..., -831.8141 ,\n",
       "          -788.3016 , -713.03986],\n",
       "         ...,\n",
       "         [ 297.77124,  377.56723,  395.23657, ...,  223.7607 ,\n",
       "           274.84937,  180.15999],\n",
       "         [ 329.36517,  415.6304 ,  374.44904, ...,  207.21921,\n",
       "           212.50743,  244.61526],\n",
       "         [ 408.73993,  400.93616,  363.7805 , ...,  236.09398,\n",
       "           207.90071,  281.96735]]], dtype=float32)}"
      ]
     },
     "execution_count": 9,
     "metadata": {},
     "output_type": "execute_result"
    }
   ],
   "source": [
    "d_covid19[random.randint(0, len(d_covid19))]"
   ]
  },
  {
   "cell_type": "markdown",
   "metadata": {},
   "source": [
    "# predict whether intubation required in case of any chest problem\n",
    "## Create features"
   ]
  },
  {
   "cell_type": "code",
   "execution_count": 10,
   "metadata": {},
   "outputs": [
    {
     "data": {
      "application/vnd.jupyter.widget-view+json": {
       "model_id": "e8a8a239b5a846b4967462dd7f875914",
       "version_major": 2,
       "version_minor": 0
      },
      "text/plain": [
       "HBox(children=(HTML(value=''), FloatProgress(value=0.0, max=535.0), HTML(value='')))"
      ]
     },
     "metadata": {},
     "output_type": "display_data"
    },
    {
     "name": "stdout",
     "output_type": "stream",
     "text": [
      "\n"
     ]
    }
   ],
   "source": [
    "images = []\n",
    "intubation_labels = []\n",
    "for i in trange(len(d_covid19)):\n",
    "    sample = d_covid19[i]\n",
    "    image = sample['img']\n",
    "    intubated = sample['intubated']\n",
    "    \n",
    "    if intubated in ('Y', 'N'):\n",
    "        images.append(image)\n",
    "        intubation_labels.append(intubated)\n",
    "#     if i > 50:\n",
    "#         break"
   ]
  },
  {
   "cell_type": "markdown",
   "metadata": {},
   "source": [
    "## generated image embeddings"
   ]
  },
  {
   "cell_type": "code",
   "execution_count": 11,
   "metadata": {},
   "outputs": [
    {
     "data": {
      "application/vnd.jupyter.widget-view+json": {
       "model_id": "1a446515df5447ec93a75bc58102b4e1",
       "version_major": 2,
       "version_minor": 0
      },
      "text/plain": [
       "HBox(children=(HTML(value=''), FloatProgress(value=0.0, max=159.0), HTML(value='')))"
      ]
     },
     "metadata": {},
     "output_type": "display_data"
    },
    {
     "name": "stdout",
     "output_type": "stream",
     "text": [
      "\n"
     ]
    }
   ],
   "source": [
    "with torch.no_grad():\n",
    "    X = []\n",
    "\n",
    "    avg_pool = torch.nn.AvgPool2d((7, 7))\n",
    "    for image in tqdm(images):\n",
    "        image = torch.from_numpy(image)\n",
    "        image = image.expand(1, 1, 224, 224)\n",
    "        features = model.features(image)\n",
    "        #print(features.shape)\n",
    "        features = avg_pool(features)\n",
    "        #print(features.shape)\n",
    "        X.append(features.numpy().reshape(1024))\n",
    "    X = np.asarray(X)"
   ]
  },
  {
   "cell_type": "code",
   "execution_count": 12,
   "metadata": {},
   "outputs": [],
   "source": [
    "label_map = {'Y': 1, 'N': 0}\n",
    "Y = np.asarray([[label_map[e]] for e in intubation_labels])"
   ]
  },
  {
   "cell_type": "markdown",
   "metadata": {},
   "source": [
    "## Split train test"
   ]
  },
  {
   "cell_type": "code",
   "execution_count": 13,
   "metadata": {},
   "outputs": [],
   "source": [
    "data = {}\n",
    "split_pct = 0.75\n",
    "total = len(X)\n",
    "idx = list(range(len(X)))\n",
    "random.shuffle(idx)\n",
    "\n",
    "train_idx = idx[:int(total*split_pct)]\n",
    "test_idx = idx[int(total*split_pct):]\n",
    "\n",
    "data['train'] = X[train_idx], Y[train_idx]\n",
    "data['test'] = X[test_idx], Y[test_idx]\n",
    "\n",
    "data['info'] = {\n",
    "    'train': {   \n",
    "        'train_count': len(train_idx),\n",
    "        'train_pos': np.sum(Y[train_idx]==1),\n",
    "        'train_neg': np.sum(Y[train_idx]==0)   \n",
    "    },\n",
    "    'test': {\n",
    "        'test_count': len(test_idx),\n",
    "        'test_pos': np.sum(Y[test_idx]==1),\n",
    "        'test_neg': np.sum(Y[test_idx]==0),   \n",
    "    }\n",
    "}"
   ]
  },
  {
   "cell_type": "code",
   "execution_count": 14,
   "metadata": {},
   "outputs": [
    {
     "data": {
      "text/plain": [
       "{'train': {'train_count': 119, 'train_pos': 60, 'train_neg': 59},\n",
       " 'test': {'test_count': 40, 'test_pos': 26, 'test_neg': 14}}"
      ]
     },
     "execution_count": 14,
     "metadata": {},
     "output_type": "execute_result"
    }
   ],
   "source": [
    "data['info']"
   ]
  },
  {
   "cell_type": "code",
   "execution_count": null,
   "metadata": {},
   "outputs": [],
   "source": []
  },
  {
   "cell_type": "markdown",
   "metadata": {},
   "source": [
    "## Train models"
   ]
  },
  {
   "cell_type": "code",
   "execution_count": 15,
   "metadata": {},
   "outputs": [
    {
     "data": {
      "text/plain": [
       "(0.8151260504201681, 0.75)"
      ]
     },
     "execution_count": 15,
     "metadata": {},
     "output_type": "execute_result"
    }
   ],
   "source": [
    "knn = KNeighborsClassifier(5)\n",
    "knn.fit(*data['train'])\n",
    "knn.score(*data['train']), knn.score(*data['test'])"
   ]
  },
  {
   "cell_type": "code",
   "execution_count": 21,
   "metadata": {},
   "outputs": [
    {
     "data": {
      "image/png": "[encoded data removed]",
      "text/plain": [
       "<Figure size 432x288 with 2 Axes>"
      ]
     },
     "metadata": {
      "needs_background": "light"
     },
     "output_type": "display_data"
    }
   ],
   "source": [
    "plot_confusion_matrix(\n",
    "    knn,\n",
    "    data['test'][0],\n",
    "    data['test'][1],\n",
    "    labels=(0, 1),\n",
    "    display_labels = ('Not intubated', 'intubated'),\n",
    "    cmap=plt.cm.Blues\n",
    ")\n",
    "if EXPORT:\n",
    "    plt.savefig('../images/intubation_cmat.svg')\n",
    "plt.show()"
   ]
  },
  {
   "cell_type": "code",
   "execution_count": 20,
   "metadata": {},
   "outputs": [
    {
     "data": {
      "image/png": "[encoded data removed]",
      "text/plain": [
       "<Figure size 432x288 with 1 Axes>"
      ]
     },
     "metadata": {
      "needs_background": "light"
     },
     "output_type": "display_data"
    }
   ],
   "source": [
    "plot_roc_curve(\n",
    "    knn,\n",
    "    *data['test']\n",
    "\n",
    ")\n",
    "if EXPORT:\n",
    "    plt.savefig('../images/intubation-roc-curve.png')\n",
    "plt.show()"
   ]
  },
  {
   "cell_type": "code",
   "execution_count": null,
   "metadata": {},
   "outputs": [],
   "source": []
  },
  {
   "cell_type": "code",
   "execution_count": null,
   "metadata": {},
   "outputs": [],
   "source": []
  }
 ],
 "metadata": {
  "kernelspec": {
   "display_name": "Python 3",
   "language": "python",
   "name": "python3"
  },
  "language_info": {
   "codemirror_mode": {
    "name": "ipython",
    "version": 3
   },
   "file_extension": ".py",
   "mimetype": "text/x-python",
   "name": "python",
   "nbconvert_exporter": "python",
   "pygments_lexer": "ipython3",
   "version": "3.8.5"
  }
 },
 "nbformat": 4,
 "nbformat_minor": 4
}
