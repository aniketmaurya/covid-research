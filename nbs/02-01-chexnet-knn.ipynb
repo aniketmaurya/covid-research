{
 "cells": [
  {
   "cell_type": "code",
   "execution_count": 13,
   "metadata": {},
   "outputs": [],
   "source": [
    "import sys\n",
    "sys.path.append('../')"
   ]
  },
  {
   "cell_type": "code",
   "execution_count": 14,
   "metadata": {},
   "outputs": [],
   "source": [
    "import torchxrayvision as xrv\n",
    "import torchvision\n",
    "import torch\n",
    "from torchvision import transforms\n",
    "import os\n",
    "\n",
    "from tqdm.auto import tqdm, trange\n",
    "import numpy as np\n",
    "from PIL import Image\n",
    "from glob import glob\n",
    "import matplotlib.pyplot as plt\n",
    "import random\n",
    "import seaborn as sns\n",
    "%matplotlib inline\n",
    "\n",
    "np.random.seed(19)\n",
    "random.seed(19)"
   ]
  },
  {
   "cell_type": "code",
   "execution_count": 15,
   "metadata": {},
   "outputs": [],
   "source": [
    "from src.chexnet import DenseNet121\n",
    "from src.xrayvision import COVID19_Dataset"
   ]
  },
  {
   "cell_type": "code",
   "execution_count": 4,
   "metadata": {},
   "outputs": [],
   "source": [
    "CKPT_PATH = '/Users/aniket/Google Drive/Projects/covid-research/checkpoints/chexnet/model.pth.tar'\n",
    "N_CLASSES=14\n",
    "DEVICE = torch.device('cpu')"
   ]
  },
  {
   "cell_type": "code",
   "execution_count": 5,
   "metadata": {},
   "outputs": [],
   "source": [
    "import re\n",
    "\n",
    "# Code modified from torchvision densenet source for loading from pre .4 densenet weights.\n",
    "checkpoint = torch.load(CKPT_PATH, map_location=DEVICE)\n",
    "state_dict = checkpoint['state_dict']\n",
    "remove_data_parallel = True # Change if you don't want to use nn.DataParallel(model)\n",
    "\n",
    "pattern = re.compile(\n",
    "    r'^(.*denselayer\\d+\\.(?:norm|relu|conv))\\.((?:[12])\\.(?:weight|bias|running_mean|running_var))$')\n",
    "for key in list(state_dict.keys()):\n",
    "    match = pattern.match(key)\n",
    "    new_key = match.group(1) + match.group(2) if match else key\n",
    "    new_key = new_key[7:] if remove_data_parallel else new_key\n",
    "    state_dict[new_key] = state_dict[key]\n",
    "    # Delete old key only if modified.\n",
    "    if match or remove_data_parallel: \n",
    "        del state_dict[key]"
   ]
  },
  {
   "cell_type": "code",
   "execution_count": 6,
   "metadata": {},
   "outputs": [],
   "source": [
    "# initialize and load the model\n",
    "model = DenseNet121(N_CLASSES)\n",
    "# model = torch.nn.DataParallel(model)\n",
    "model.load_state_dict(state_dict)\n",
    "model = model.eval()"
   ]
  },
  {
   "cell_type": "code",
   "execution_count": 7,
   "metadata": {},
   "outputs": [],
   "source": [
    "out_feats = model.densenet121.classifier[0].in_features\n",
    "model.densenet121.classifier = torch.nn.Identity(out_feats)"
   ]
  },
  {
   "cell_type": "code",
   "execution_count": 8,
   "metadata": {},
   "outputs": [],
   "source": [
    "# Dataset noramlized on\n",
    "normalize = transforms.Normalize([0.485, 0.456, 0.406],\n",
    "                                     [0.229, 0.224, 0.225])"
   ]
  },
  {
   "cell_type": "code",
   "execution_count": 10,
   "metadata": {},
   "outputs": [],
   "source": [
    "transform = torchvision.transforms.Compose([xrv.datasets.XRayCenterCrop(),xrv.datasets.XRayResizer(224)])\n",
    "\n",
    "d_covid19 = COVID19_Dataset(\n",
    "    '/Users/aniket/Google Drive/Projects/covid-research/data/covid-chestxray-dataset/images',\n",
    "    '/Users/aniket/Google Drive/Projects/covid-research/data/covid-chestxray-dataset/metadata.csv',\n",
    "    transform=transform,\n",
    "    default_normalize=False\n",
    ")"
   ]
  },
  {
   "cell_type": "code",
   "execution_count": 12,
   "metadata": {},
   "outputs": [],
   "source": [
    "x = d_covid19[0]"
   ]
  },
  {
   "cell_type": "code",
   "execution_count": null,
   "metadata": {},
   "outputs": [],
   "source": []
  },
  {
   "cell_type": "code",
   "execution_count": null,
   "metadata": {},
   "outputs": [],
   "source": []
  },
  {
   "cell_type": "code",
   "execution_count": 100,
   "metadata": {},
   "outputs": [
    {
     "name": "stdout",
     "output_type": "stream",
     "text": [
      "label: 1.0\n",
      "(3, 224, 224)\n"
     ]
    },
    {
     "data": {
      "text/plain": [
       "tensor([[0.7515, 0.2196, 0.3359, 0.4949, 0.6119, 0.5860, 0.5114, 0.8238, 0.3913,\n",
       "         0.2863, 0.9834, 0.5108, 0.5882, 0.3707]], grad_fn=<SigmoidBackward>)"
      ]
     },
     "execution_count": 100,
     "metadata": {},
     "output_type": "execute_result"
    }
   ],
   "source": [
    "idx = random.randint(0, len(d_covid19))\n",
    "pil_image = d_covid19[idx]['image']\n",
    "label = d_covid19[idx]['lab']\n",
    "print('label:', label[3])\n",
    "\n",
    "# image tensor\n",
    "img_arr = pil_image.resize((224, 224), Image.BICUBIC)\n",
    "img_arr = np.asarray(img_arr)\n",
    "img_arr = img_arr.transpose(-1, 0, 1)\n",
    "print(img_arr.shape)\n",
    "img_tensor = normalize(torch.Tensor(img_arr))\n",
    "img_tensor = img_tensor.expand(1, 3, 224, 224).detach()\n",
    "model(img_tensor)"
   ]
  },
  {
   "cell_type": "code",
   "execution_count": 136,
   "metadata": {},
   "outputs": [
    {
     "data": {
      "application/vnd.jupyter.widget-view+json": {
       "model_id": "3e57bcc2da0d4e80b649b248a2867dd2",
       "version_major": 2,
       "version_minor": 0
      },
      "text/plain": [
       "HBox(children=(HTML(value=''), FloatProgress(value=0.0, max=535.0), HTML(value='')))"
      ]
     },
     "metadata": {},
     "output_type": "display_data"
    },
    {
     "name": "stdout",
     "output_type": "stream",
     "text": [
      "\n"
     ]
    }
   ],
   "source": [
    "features = []\n",
    "labels = []\n",
    "for idx in trange(len(d_covid19)):\n",
    "    pil_image = d_covid19[idx]['image']\n",
    "    label = d_covid19[idx]['lab']\n",
    "    #print('label:', label[3])\n",
    "\n",
    "    # image tensor\n",
    "    img_arr = pil_image.resize((224, 224), Image.BICUBIC)\n",
    "    img_arr = np.asarray(img_arr)\n",
    "    img_arr = img_arr.transpose(-1, 0, 1)\n",
    "    #print(img_arr.shape)\n",
    "    img_tensor = normalize(torch.Tensor(img_arr))\n",
    "    img_tensor = img_tensor.expand(1, 3, 224, 224).detach()\n",
    "\n",
    "    feature = model(img_tensor)\n",
    "    features.append(feature)\n",
    "    labels.append(label[3])"
   ]
  },
  {
   "cell_type": "code",
   "execution_count": 180,
   "metadata": {},
   "outputs": [],
   "source": [
    "X = []\n",
    "for e in features:\n",
    "    X.append(e.detach().numpy().reshape(1024))\n",
    "X = np.asarray(X)\n",
    "labels_ = np.asarray(labels)"
   ]
  },
  {
   "cell_type": "markdown",
   "metadata": {},
   "source": [
    "## Split train test"
   ]
  },
  {
   "cell_type": "code",
   "execution_count": 157,
   "metadata": {},
   "outputs": [],
   "source": [
    "X_ = X/7847.1504"
   ]
  },
  {
   "cell_type": "code",
   "execution_count": 351,
   "metadata": {},
   "outputs": [
    {
     "name": "stdout",
     "output_type": "stream",
     "text": [
      "428 107\n"
     ]
    }
   ],
   "source": [
    "split_pct = 0.8\n",
    "indexes = list(range(len(X)))\n",
    "random.shuffle(indexes)\n",
    "\n",
    "train_idx = indexes[:int(split_pct*len(indexes))]\n",
    "test_idx = indexes[int(split_pct*len(indexes)):]\n",
    "\n",
    "print(len(train_idx), len(test_idx))"
   ]
  },
  {
   "cell_type": "code",
   "execution_count": 352,
   "metadata": {},
   "outputs": [
    {
     "data": {
      "text/plain": [
       "(284, 144)"
      ]
     },
     "execution_count": 352,
     "metadata": {},
     "output_type": "execute_result"
    }
   ],
   "source": [
    "np.sum(labels_[train_idx]==1), np.sum(labels_[train_idx]==0)"
   ]
  },
  {
   "cell_type": "code",
   "execution_count": 353,
   "metadata": {},
   "outputs": [
    {
     "data": {
      "text/plain": [
       "(58, 49)"
      ]
     },
     "execution_count": 353,
     "metadata": {},
     "output_type": "execute_result"
    }
   ],
   "source": [
    "np.sum(labels_[test_idx]==1), np.sum(labels_[test_idx]==0)"
   ]
  },
  {
   "cell_type": "code",
   "execution_count": null,
   "metadata": {},
   "outputs": [],
   "source": []
  },
  {
   "cell_type": "code",
   "execution_count": 244,
   "metadata": {},
   "outputs": [],
   "source": [
    "from sklearn.neighbors import KNeighborsClassifier\n",
    "from sklearn.metrics import precision_score, recall_score, f1_score, precision_recall_curve, confusion_matrix\n",
    "\n",
    "from sklearn.metrics import plot_confusion_matrix\n"
   ]
  },
  {
   "cell_type": "code",
   "execution_count": 308,
   "metadata": {},
   "outputs": [],
   "source": [
    "knn = KNeighborsClassifier(n_neighbors=8, p=2)"
   ]
  },
  {
   "cell_type": "code",
   "execution_count": 309,
   "metadata": {},
   "outputs": [
    {
     "data": {
      "text/plain": [
       "KNeighborsClassifier(n_neighbors=8)"
      ]
     },
     "execution_count": 309,
     "metadata": {},
     "output_type": "execute_result"
    }
   ],
   "source": [
    "knn.fit(X_[train_idx], labels_[train_idx])"
   ]
  },
  {
   "cell_type": "code",
   "execution_count": 310,
   "metadata": {},
   "outputs": [
    {
     "data": {
      "text/plain": [
       "0.6705607476635514"
      ]
     },
     "execution_count": 310,
     "metadata": {},
     "output_type": "execute_result"
    }
   ],
   "source": [
    "knn.score(X_[train_idx], labels_[train_idx])"
   ]
  },
  {
   "cell_type": "code",
   "execution_count": 311,
   "metadata": {},
   "outputs": [
    {
     "data": {
      "text/plain": [
       "0.6355140186915887"
      ]
     },
     "execution_count": 311,
     "metadata": {},
     "output_type": "execute_result"
    }
   ],
   "source": [
    "knn.score(X_[test_idx], labels_[test_idx])"
   ]
  },
  {
   "cell_type": "code",
   "execution_count": 312,
   "metadata": {},
   "outputs": [],
   "source": [
    "test_output = knn.predict(X_[test_idx])"
   ]
  },
  {
   "cell_type": "code",
   "execution_count": 313,
   "metadata": {},
   "outputs": [
    {
     "data": {
      "text/plain": [
       "(0.7391304347826086, 0.7083333333333334)"
      ]
     },
     "execution_count": 313,
     "metadata": {},
     "output_type": "execute_result"
    }
   ],
   "source": [
    "precision_score(labels_[test_idx], test_output), recall_score(labels_[test_idx], test_output)"
   ]
  },
  {
   "cell_type": "code",
   "execution_count": 314,
   "metadata": {},
   "outputs": [
    {
     "data": {
      "text/plain": [
       "0.723404255319149"
      ]
     },
     "execution_count": 314,
     "metadata": {},
     "output_type": "execute_result"
    }
   ],
   "source": [
    "f1_score(labels_[test_idx], test_output)"
   ]
  },
  {
   "cell_type": "code",
   "execution_count": 315,
   "metadata": {},
   "outputs": [],
   "source": [
    "# knn.predict_proba(X_[test_idx])"
   ]
  },
  {
   "cell_type": "code",
   "execution_count": 316,
   "metadata": {},
   "outputs": [],
   "source": [
    "precision, recall, thresh = precision_recall_curve(\n",
    "                                labels_[test_idx],\n",
    "                                knn.predict_proba(X_[test_idx])[..., 1]\n",
    "                            )"
   ]
  },
  {
   "cell_type": "code",
   "execution_count": 317,
   "metadata": {},
   "outputs": [
    {
     "data": {
      "text/plain": [
       "array([0.67924528, 0.6969697 , 0.68235294, 0.73913043, 0.76190476,\n",
       "       0.86956522, 0.75      , 1.        ])"
      ]
     },
     "execution_count": 317,
     "metadata": {},
     "output_type": "execute_result"
    }
   ],
   "source": [
    "precision"
   ]
  },
  {
   "cell_type": "code",
   "execution_count": 318,
   "metadata": {},
   "outputs": [
    {
     "data": {
      "image/png": "[encoded data removed]",
      "text/plain": [
       "<Figure size 432x288 with 1 Axes>"
      ]
     },
     "metadata": {
      "needs_background": "light"
     },
     "output_type": "display_data"
    }
   ],
   "source": [
    "plt.plot(precision)\n",
    "plt.plot(recall)\n",
    "\n",
    "plt.legend(('precision', 'recall'))\n",
    "plt.show()"
   ]
  },
  {
   "cell_type": "code",
   "execution_count": 319,
   "metadata": {},
   "outputs": [],
   "source": [
    "cm = confusion_matrix(\n",
    "        y_true=labels_[test_idx],\n",
    "        y_pred=knn.predict(X_[test_idx])\n",
    "    )"
   ]
  },
  {
   "cell_type": "code",
   "execution_count": 330,
   "metadata": {},
   "outputs": [
    {
     "data": {
      "image/png": "[encoded data removed]",
      "text/plain": [
       "<Figure size 432x288 with 2 Axes>"
      ]
     },
     "metadata": {
      "needs_background": "light"
     },
     "output_type": "display_data"
    }
   ],
   "source": [
    "disp = plot_confusion_matrix(knn, X_[test_idx], labels_[test_idx], \n",
    "                          labels=(0, 1),\n",
    "                          display_labels=('not covid', 'covid'),\n",
    "                          cmap=plt.cm.Oranges\n",
    "                         )\n",
    "\n",
    "disp.ax_.set_title('Confusion Matrix of KNN score')\n",
    "plt.savefig('../images/knn-confusion-matrix.png')\n",
    "plt.show()"
   ]
  },
  {
   "cell_type": "code",
   "execution_count": null,
   "metadata": {},
   "outputs": [],
   "source": []
  }
 ],
 "metadata": {
  "kernelspec": {
   "display_name": "Python 3",
   "language": "python",
   "name": "python3"
  },
  "language_info": {
   "codemirror_mode": {
    "name": "ipython",
    "version": 3
   },
   "file_extension": ".py",
   "mimetype": "text/x-python",
   "name": "python",
   "nbconvert_exporter": "python",
   "pygments_lexer": "ipython3",
   "version": "3.8.5"
  }
 },
 "nbformat": 4,
 "nbformat_minor": 4
}
