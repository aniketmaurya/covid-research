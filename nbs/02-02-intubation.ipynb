{
 "cells": [
  {
   "cell_type": "code",
   "execution_count": null,
   "metadata": {},
   "outputs": [],
   "source": [
    "import sys\n",
    "sys.path.append('../')"
   ]
  },
  {
   "cell_type": "code",
   "execution_count": 2,
   "metadata": {},
   "outputs": [],
   "source": [
    "import torchxrayvision as xrv\n",
    "# from torchxrayvision.datasets import COVID19_Dataset\n",
    "from src.xrayvision import COVID19_Dataset\n",
    "import torchvision\n",
    "\n",
    "import torch\n",
    "\n",
    "from tqdm.auto import tqdm, trange\n",
    "import numpy as np\n",
    "from PIL import Image\n",
    "import matplotlib.pyplot as plt\n",
    "import random\n",
    "import seaborn as sns\n",
    "%matplotlib inline"
   ]
  },
  {
   "cell_type": "code",
   "execution_count": 32,
   "metadata": {},
   "outputs": [],
   "source": [
    "from sklearn.neighbors import KNeighborsClassifier\n",
    "from sklearn.metrics import f1_score, recall_score, precision_score, roc_auc_score, plot_confusion_matrix, plot_roc_curve"
   ]
  },
  {
   "cell_type": "code",
   "execution_count": 3,
   "metadata": {},
   "outputs": [],
   "source": [
    "from src.visualization import show_images"
   ]
  },
  {
   "cell_type": "code",
   "execution_count": 4,
   "metadata": {},
   "outputs": [],
   "source": [
    "EXPORT = True"
   ]
  },
  {
   "cell_type": "code",
   "execution_count": 5,
   "metadata": {},
   "outputs": [],
   "source": [
    "model = xrv.models.DenseNet(weights='all') # CheXpert (Stanford)\n",
    "model = model.eval()\n",
    "\n",
    "transform = torchvision.transforms.Compose([xrv.datasets.XRayCenterCrop(),xrv.datasets.XRayResizer(224)])\n",
    "\n",
    "d_covid19 = COVID19_Dataset(\n",
    "    '/Users/aniket/Google Drive/Projects/covid-research/data/covid-chestxray-dataset/images',\n",
    "    '/Users/aniket/Google Drive/Projects/covid-research/data/covid-chestxray-dataset/metadata.csv',\n",
    "    transform=transform\n",
    ")"
   ]
  },
  {
   "cell_type": "code",
   "execution_count": null,
   "metadata": {},
   "outputs": [],
   "source": []
  },
  {
   "cell_type": "code",
   "execution_count": 6,
   "metadata": {},
   "outputs": [
    {
     "data": {
      "text/plain": [
       "True"
      ]
     },
     "execution_count": 6,
     "metadata": {},
     "output_type": "execute_result"
    }
   ],
   "source": [
    "np.isnan(d_covid19[56]['intubated'])"
   ]
  },
  {
   "cell_type": "code",
   "execution_count": 7,
   "metadata": {},
   "outputs": [
    {
     "data": {
      "text/plain": [
       "{'idx': 335,\n",
       " 'lab': array([0., 0., 0., 1., 0., 0., 0., 0., 0., 0., 0., 0., 0., 0., 0., 0., 0.,\n",
       "        0., 1., 0., 0., 0., 0., 0., 1.], dtype=float32),\n",
       " 'intubated': nan,\n",
       " 'img': array([[[-532.6877 , -583.04865, -580.68427, ..., -576.04205,\n",
       "          -577.40686, -531.8482 ],\n",
       "         [-763.0932 , -814.43933, -817.7728 , ..., -831.5728 ,\n",
       "          -832.1598 , -766.07825],\n",
       "         [-769.4719 , -850.18835, -862.8646 , ..., -831.8141 ,\n",
       "          -788.3016 , -713.03986],\n",
       "         ...,\n",
       "         [ 297.77124,  377.56723,  395.23657, ...,  223.7607 ,\n",
       "           274.84937,  180.15999],\n",
       "         [ 329.36517,  415.6304 ,  374.44904, ...,  207.21921,\n",
       "           212.50743,  244.61526],\n",
       "         [ 408.73993,  400.93616,  363.7805 , ...,  236.09398,\n",
       "           207.90071,  281.96735]]], dtype=float32)}"
      ]
     },
     "execution_count": 7,
     "metadata": {},
     "output_type": "execute_result"
    }
   ],
   "source": [
    "d_covid19[random.randint(0, len(d_covid19))]"
   ]
  },
  {
   "cell_type": "markdown",
   "metadata": {},
   "source": [
    "# predict whether intubation required in case of any chest problem\n",
    "## Create features"
   ]
  },
  {
   "cell_type": "code",
   "execution_count": 86,
   "metadata": {},
   "outputs": [
    {
     "data": {
      "application/vnd.jupyter.widget-view+json": {
       "model_id": "9cff42b90f7b4b528a075b36f10119ee",
       "version_major": 2,
       "version_minor": 0
      },
      "text/plain": [
       "HBox(children=(HTML(value=''), FloatProgress(value=0.0, max=535.0), HTML(value='')))"
      ]
     },
     "metadata": {},
     "output_type": "display_data"
    },
    {
     "name": "stdout",
     "output_type": "stream",
     "text": [
      "\n"
     ]
    }
   ],
   "source": [
    "images = []\n",
    "intubation_labels = []\n",
    "for i in trange(len(d_covid19)):\n",
    "    sample = d_covid19[i]\n",
    "    image = sample['img']\n",
    "    intubated = sample['intubated']\n",
    "    \n",
    "    if intubated in ('Y', 'N'):\n",
    "        images.append(image)\n",
    "        intubation_labels.append(intubated)\n",
    "#     if i > 50:\n",
    "#         break"
   ]
  },
  {
   "cell_type": "markdown",
   "metadata": {},
   "source": [
    "## generated image embeddings"
   ]
  },
  {
   "cell_type": "code",
   "execution_count": 105,
   "metadata": {},
   "outputs": [
    {
     "data": {
      "application/vnd.jupyter.widget-view+json": {
       "model_id": "17b901a9b71b40849599acab8b42b537",
       "version_major": 2,
       "version_minor": 0
      },
      "text/plain": [
       "HBox(children=(HTML(value=''), FloatProgress(value=0.0, max=159.0), HTML(value='')))"
      ]
     },
     "metadata": {},
     "output_type": "display_data"
    },
    {
     "name": "stdout",
     "output_type": "stream",
     "text": [
      "\n"
     ]
    }
   ],
   "source": [
    "with torch.no_grad():\n",
    "    X = []\n",
    "\n",
    "    avg_pool = torch.nn.AvgPool2d((7, 7))\n",
    "    for image in tqdm(images):\n",
    "        image = torch.from_numpy(image)\n",
    "        image = image.expand(1, 1, 224, 224)\n",
    "        features = model.features(image)\n",
    "        #print(features.shape)\n",
    "        features = avg_pool(features)\n",
    "        #print(features.shape)\n",
    "        X.append(features.numpy().reshape(1024))\n",
    "    X = np.asarray(X)"
   ]
  },
  {
   "cell_type": "code",
   "execution_count": 106,
   "metadata": {},
   "outputs": [],
   "source": [
    "label_map = {'Y': 1, 'N': 0}\n",
    "Y = np.asarray([[label_map[e]] for e in intubation_labels])"
   ]
  },
  {
   "cell_type": "markdown",
   "metadata": {},
   "source": [
    "## Split train test"
   ]
  },
  {
   "cell_type": "code",
   "execution_count": 107,
   "metadata": {},
   "outputs": [],
   "source": [
    "data = {}\n",
    "split_pct = 0.75\n",
    "total = len(X)\n",
    "idx = list(range(len(X)))\n",
    "random.shuffle(idx)\n",
    "\n",
    "train_idx = idx[:int(total*split_pct)]\n",
    "test_idx = idx[int(total*split_pct):]\n",
    "\n",
    "data['train'] = X[train_idx], Y[train_idx]\n",
    "data['test'] = X[test_idx], Y[test_idx]\n",
    "\n",
    "data['info'] = {\n",
    "    'train': {   \n",
    "        'train_count': len(train_idx),\n",
    "        'train_pos': np.sum(Y[train_idx]==1),\n",
    "        'train_neg': np.sum(Y[train_idx]==0)   \n",
    "    },\n",
    "    'test': {\n",
    "        'test_count': len(test_idx),\n",
    "        'test_pos': np.sum(Y[test_idx]==1),\n",
    "        'test_neg': np.sum(Y[test_idx]==0),   \n",
    "    }\n",
    "}"
   ]
  },
  {
   "cell_type": "code",
   "execution_count": 108,
   "metadata": {},
   "outputs": [
    {
     "data": {
      "text/plain": [
       "{'train': {'train_count': 119, 'train_pos': 65, 'train_neg': 54},\n",
       " 'test': {'test_count': 40, 'test_pos': 21, 'test_neg': 19}}"
      ]
     },
     "execution_count": 108,
     "metadata": {},
     "output_type": "execute_result"
    }
   ],
   "source": [
    "data['info']"
   ]
  },
  {
   "cell_type": "code",
   "execution_count": null,
   "metadata": {},
   "outputs": [],
   "source": []
  },
  {
   "cell_type": "markdown",
   "metadata": {},
   "source": [
    "## Train models"
   ]
  },
  {
   "cell_type": "code",
   "execution_count": 125,
   "metadata": {},
   "outputs": [
    {
     "data": {
      "text/plain": [
       "(0.8235294117647058, 0.8)"
      ]
     },
     "execution_count": 125,
     "metadata": {},
     "output_type": "execute_result"
    }
   ],
   "source": [
    "knn = KNeighborsClassifier(5)\n",
    "knn.fit(*data['train'])\n",
    "knn.score(*data['train']), knn.score(*data['test'])"
   ]
  },
  {
   "cell_type": "code",
   "execution_count": 130,
   "metadata": {},
   "outputs": [
    {
     "data": {
      "image/png": "[encoded data removed]",
      "text/plain": [
       "<Figure size 432x288 with 2 Axes>"
      ]
     },
     "metadata": {
      "needs_background": "light"
     },
     "output_type": "display_data"
    }
   ],
   "source": [
    "plot_confusion_matrix(\n",
    "    knn,\n",
    "    data['test'][0],\n",
    "    data['test'][1],\n",
    "    labels=(0, 1),\n",
    "    display_labels = ('Not intubated', 'intubated'),\n",
    "    cmap=plt.cm.Blues\n",
    ")\n",
    "if EXPORT:\n",
    "    plt.savefig('../images/intubation_cmat.png')\n",
    "plt.show()"
   ]
  },
  {
   "cell_type": "code",
   "execution_count": null,
   "metadata": {},
   "outputs": [],
   "source": []
  },
  {
   "cell_type": "code",
   "execution_count": null,
   "metadata": {},
   "outputs": [],
   "source": []
  }
 ],
 "metadata": {
  "kernelspec": {
   "display_name": "Python 3",
   "language": "python",
   "name": "python3"
  },
  "language_info": {
   "codemirror_mode": {
    "name": "ipython",
    "version": 3
   },
   "file_extension": ".py",
   "mimetype": "text/x-python",
   "name": "python",
   "nbconvert_exporter": "python",
   "pygments_lexer": "ipython3",
   "version": "3.8.5"
  }
 },
 "nbformat": 4,
 "nbformat_minor": 4
}
