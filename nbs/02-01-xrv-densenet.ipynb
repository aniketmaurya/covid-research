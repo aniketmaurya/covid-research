{
 "cells": [
  {
   "cell_type": "code",
   "execution_count": 1,
   "metadata": {},
   "outputs": [],
   "source": [
    "import sys\n",
    "sys.path.append('../')"
   ]
  },
  {
   "cell_type": "code",
   "execution_count": 34,
   "metadata": {},
   "outputs": [],
   "source": [
    "import torchxrayvision as xrv\n",
    "import torchvision\n",
    "import torch\n",
    "\n",
    "import numpy as np\n",
    "from PIL import Image\n",
    "from glob import glob\n",
    "import matplotlib.pyplot as plt\n",
    "import random\n",
    "from tqdm.auto import tqdm, trange\n",
    "import seaborn as sns\n",
    "%matplotlib inline"
   ]
  },
  {
   "cell_type": "code",
   "execution_count": 13,
   "metadata": {},
   "outputs": [],
   "source": [
    "# from src.chexnet import DenseNet121\n",
    "# from src.xrayvision import COVID19_Dataset\n",
    "from torchxrayvision.datasets import COVID19_Dataset"
   ]
  },
  {
   "cell_type": "code",
   "execution_count": 15,
   "metadata": {},
   "outputs": [],
   "source": [
    "transform = torchvision.transforms.Compose([xrv.datasets.XRayCenterCrop(),xrv.datasets.XRayResizer(224)])\n",
    "\n",
    "d_covid19 = COVID19_Dataset(\n",
    "    '/Users/aniket/Google Drive/Projects/covid-research/data/covid-chestxray-dataset/images',\n",
    "    '/Users/aniket/Google Drive/Projects/covid-research/data/covid-chestxray-dataset/metadata.csv',\n",
    "    transform=transform)"
   ]
  },
  {
   "cell_type": "code",
   "execution_count": 16,
   "metadata": {},
   "outputs": [],
   "source": [
    "model = xrv.models.DenseNet(weights='all') # CheXpert (Stanford)\n",
    "model = model.eval()"
   ]
  },
  {
   "cell_type": "markdown",
   "metadata": {},
   "source": [
    "# KNN for only Covid-19"
   ]
  },
  {
   "cell_type": "code",
   "execution_count": 31,
   "metadata": {},
   "outputs": [
    {
     "name": "stdout",
     "output_type": "stream",
     "text": [
      "{'Aspergillosis': {0.0: 534, 1.0: 1},\n",
      " 'Aspiration': {0.0: 534, 1.0: 1},\n",
      " 'Bacterial': {0.0: 487, 1.0: 48},\n",
      " 'COVID-19': {0.0: 193, 1.0: 342},\n",
      " 'Chlamydophila': {0.0: 534, 1.0: 1},\n",
      " 'Fungal': {0.0: 512, 1.0: 23},\n",
      " 'H1N1': {0.0: 534, 1.0: 1},\n",
      " 'Herpes ': {0.0: 532, 1.0: 3},\n",
      " 'Influenza': {0.0: 531, 1.0: 4},\n",
      " 'Klebsiella': {0.0: 526, 1.0: 9},\n",
      " 'Legionella': {0.0: 526, 1.0: 9},\n",
      " 'Lipoid': {0.0: 527, 1.0: 8},\n",
      " 'MERS-CoV': {0.0: 527, 1.0: 8},\n",
      " 'MRSA': {0.0: 534, 1.0: 1},\n",
      " 'Mycoplasma': {0.0: 530, 1.0: 5},\n",
      " 'No Finding': {0.0: 520, 1.0: 15},\n",
      " 'Nocardia': {0.0: 531, 1.0: 4},\n",
      " 'Pneumocystis': {0.0: 513, 1.0: 22},\n",
      " 'Pneumonia': {0.0: 26, 1.0: 509},\n",
      " 'SARS': {0.0: 519, 1.0: 16},\n",
      " 'Staphylococcus': {0.0: 534, 1.0: 1},\n",
      " 'Streptococcus': {0.0: 518, 1.0: 17},\n",
      " 'Tuberculosis': {0.0: 524, 1.0: 11},\n",
      " 'Varicella': {0.0: 530, 1.0: 5},\n",
      " 'Viral': {0.0: 157, 1.0: 378}}\n"
     ]
    },
    {
     "data": {
      "text/plain": [
       "COVID19_Dataset num_samples=535 views=['PA', 'AP']"
      ]
     },
     "execution_count": 31,
     "metadata": {},
     "output_type": "execute_result"
    }
   ],
   "source": [
    "d_covid19"
   ]
  },
  {
   "cell_type": "code",
   "execution_count": 32,
   "metadata": {},
   "outputs": [
    {
     "name": "stdout",
     "output_type": "stream",
     "text": [
      "{'MERS-CoV', 'Influenza', 'Varicella', 'Nocardia', 'Streptococcus', 'Pneumocystis', 'Legionella', 'Lipoid', 'Mycoplasma', 'Chlamydophila', 'No Finding', 'Bacterial', 'Viral', 'Pneumonia', 'Tuberculosis', 'Aspergillosis', 'Herpes ', 'Staphylococcus', 'Klebsiella', 'Fungal', 'H1N1', 'SARS', 'MRSA', 'Aspiration'} will be dropped\n"
     ]
    }
   ],
   "source": [
    "xrv.datasets.relabel_dataset(['COVID-19'], d_covid19)"
   ]
  },
  {
   "cell_type": "code",
   "execution_count": 35,
   "metadata": {},
   "outputs": [
    {
     "data": {
      "application/vnd.jupyter.widget-view+json": {
       "model_id": "bd9c56ee26134115a1e84825a26498f0",
       "version_major": 2,
       "version_minor": 0
      },
      "text/plain": [
       "HBox(children=(HTML(value=''), FloatProgress(value=0.0, max=535.0), HTML(value='')))"
      ]
     },
     "metadata": {},
     "output_type": "display_data"
    },
    {
     "name": "stdout",
     "output_type": "stream",
     "text": [
      "\n"
     ]
    }
   ],
   "source": [
    "features = []\n",
    "labels = []\n",
    "for idx in trange(0, len(d_covid19)):\n",
    "    image = d_covid19[idx]['img']\n",
    "    image = torch.from_numpy(image).expand(1, 1, 224, 224)\n",
    "    label = d_covid19[idx]['lab']\n",
    "\n",
    "    feature = model.features(image)\n",
    "    features.append(feature)\n",
    "    labels.append(label)"
   ]
  },
  {
   "cell_type": "code",
   "execution_count": 40,
   "metadata": {},
   "outputs": [
    {
     "data": {
      "text/plain": [
       "AvgPool2d(kernel_size=(7, 7), stride=(7, 7), padding=0)"
      ]
     },
     "execution_count": 40,
     "metadata": {},
     "output_type": "execute_result"
    }
   ],
   "source": []
  },
  {
   "cell_type": "code",
   "execution_count": 49,
   "metadata": {},
   "outputs": [],
   "source": [
    "X = []\n",
    "avg_pool = torch.nn.AvgPool2d((7,7))\n",
    "for e in features:\n",
    "    X.append(avg_pool(e).detach().numpy().reshape(1024))\n",
    "X = np.asarray(X)"
   ]
  },
  {
   "cell_type": "code",
   "execution_count": 59,
   "metadata": {},
   "outputs": [],
   "source": [
    "labels = np.asarray(labels)"
   ]
  },
  {
   "cell_type": "code",
   "execution_count": null,
   "metadata": {},
   "outputs": [],
   "source": []
  },
  {
   "cell_type": "markdown",
   "metadata": {},
   "source": [
    "## Split train test"
   ]
  },
  {
   "cell_type": "code",
   "execution_count": 103,
   "metadata": {},
   "outputs": [
    {
     "name": "stdout",
     "output_type": "stream",
     "text": [
      "374 161\n"
     ]
    }
   ],
   "source": [
    "split_pct = 0.7\n",
    "indexes = list(range(len(X)))\n",
    "random.shuffle(indexes)\n",
    "\n",
    "train_idx = indexes[:int(split_pct*len(indexes))]\n",
    "test_idx = indexes[int(split_pct*len(indexes)):]\n",
    "\n",
    "data = {}\n",
    "data['train'] = X[train_idx], labels[train_idx]\n",
    "data['test'] = X[test_idx], labels[test_idx]\n",
    "\n",
    "print(len(train_idx), len(test_idx))"
   ]
  },
  {
   "cell_type": "code",
   "execution_count": 104,
   "metadata": {},
   "outputs": [
    {
     "data": {
      "text/plain": [
       "(241, 133)"
      ]
     },
     "execution_count": 104,
     "metadata": {},
     "output_type": "execute_result"
    }
   ],
   "source": [
    "np.sum(labels[train_idx]==1), np.sum(labels[train_idx]==0)"
   ]
  },
  {
   "cell_type": "code",
   "execution_count": 105,
   "metadata": {},
   "outputs": [
    {
     "data": {
      "text/plain": [
       "(101, 60)"
      ]
     },
     "execution_count": 105,
     "metadata": {},
     "output_type": "execute_result"
    }
   ],
   "source": [
    "np.sum(labels[test_idx]==1), np.sum(labels[test_idx]==0)"
   ]
  },
  {
   "cell_type": "code",
   "execution_count": null,
   "metadata": {},
   "outputs": [],
   "source": []
  },
  {
   "cell_type": "code",
   "execution_count": 106,
   "metadata": {},
   "outputs": [],
   "source": [
    "from sklearn.neighbors import KNeighborsClassifier\n",
    "from sklearn.metrics import precision_score, recall_score, f1_score, precision_recall_curve, confusion_matrix\n",
    "\n",
    "from sklearn.metrics import plot_confusion_matrix, auc, roc_auc_score\n"
   ]
  },
  {
   "cell_type": "code",
   "execution_count": 107,
   "metadata": {},
   "outputs": [],
   "source": [
    "knn = KNeighborsClassifier(n_neighbors=8, p=2)"
   ]
  },
  {
   "cell_type": "code",
   "execution_count": 108,
   "metadata": {},
   "outputs": [
    {
     "data": {
      "text/plain": [
       "KNeighborsClassifier(n_neighbors=8)"
      ]
     },
     "execution_count": 108,
     "metadata": {},
     "output_type": "execute_result"
    }
   ],
   "source": [
    "knn.fit(*data['train'])"
   ]
  },
  {
   "cell_type": "code",
   "execution_count": 109,
   "metadata": {},
   "outputs": [
    {
     "data": {
      "text/plain": [
       "0.7887700534759359"
      ]
     },
     "execution_count": 109,
     "metadata": {},
     "output_type": "execute_result"
    }
   ],
   "source": [
    "knn.score(*data['train'])"
   ]
  },
  {
   "cell_type": "code",
   "execution_count": 110,
   "metadata": {},
   "outputs": [
    {
     "data": {
      "text/plain": [
       "0.7018633540372671"
      ]
     },
     "execution_count": 110,
     "metadata": {},
     "output_type": "execute_result"
    }
   ],
   "source": [
    "knn.score(*data['test'])"
   ]
  },
  {
   "cell_type": "code",
   "execution_count": 111,
   "metadata": {},
   "outputs": [],
   "source": [
    "y_pred = knn.predict(data['test'][0])\n",
    "y_true = data['test'][1]"
   ]
  },
  {
   "cell_type": "code",
   "execution_count": 112,
   "metadata": {},
   "outputs": [
    {
     "data": {
      "text/plain": [
       "(0.7304347826086957, 0.8316831683168316)"
      ]
     },
     "execution_count": 112,
     "metadata": {},
     "output_type": "execute_result"
    }
   ],
   "source": [
    "precision_score(y_true, y_pred), recall_score(y_true, y_pred)"
   ]
  },
  {
   "cell_type": "code",
   "execution_count": 113,
   "metadata": {},
   "outputs": [
    {
     "data": {
      "text/plain": [
       "0.7777777777777777"
      ]
     },
     "execution_count": 113,
     "metadata": {},
     "output_type": "execute_result"
    }
   ],
   "source": [
    "f1_score(y_true, y_pred)"
   ]
  },
  {
   "cell_type": "code",
   "execution_count": 114,
   "metadata": {},
   "outputs": [],
   "source": [
    "# knn.predict_proba(X_[test_idx])"
   ]
  },
  {
   "cell_type": "code",
   "execution_count": 115,
   "metadata": {},
   "outputs": [],
   "source": [
    "precision, recall, thresh = precision_recall_curve(\n",
    "                                y_true,\n",
    "                                knn.predict_proba(data['test'][0])[..., 1]\n",
    "                            )"
   ]
  },
  {
   "cell_type": "code",
   "execution_count": 116,
   "metadata": {},
   "outputs": [
    {
     "data": {
      "text/plain": [
       "array([0.62732919, 0.64102564, 0.64900662, 0.66911765, 0.73043478,\n",
       "       0.82666667, 0.85714286, 0.83333333, 1.        ])"
      ]
     },
     "execution_count": 116,
     "metadata": {},
     "output_type": "execute_result"
    }
   ],
   "source": [
    "precision"
   ]
  },
  {
   "cell_type": "code",
   "execution_count": 117,
   "metadata": {},
   "outputs": [
    {
     "data": {
      "image/png": "[encoded data removed]",
      "text/plain": [
       "<Figure size 432x288 with 1 Axes>"
      ]
     },
     "metadata": {
      "needs_background": "light"
     },
     "output_type": "display_data"
    }
   ],
   "source": [
    "plt.plot(precision)\n",
    "plt.plot(recall)\n",
    "\n",
    "plt.legend(('precision', 'recall'))\n",
    "plt.show()"
   ]
  },
  {
   "cell_type": "code",
   "execution_count": 118,
   "metadata": {},
   "outputs": [],
   "source": [
    "cm = confusion_matrix(\n",
    "        y_true=y_true,\n",
    "        y_pred=y_pred\n",
    "    )"
   ]
  },
  {
   "cell_type": "code",
   "execution_count": 128,
   "metadata": {},
   "outputs": [
    {
     "data": {
      "image/png": "[encoded data removed]",
      "text/plain": [
       "<Figure size 432x288 with 2 Axes>"
      ]
     },
     "metadata": {
      "needs_background": "light"
     },
     "output_type": "display_data"
    }
   ],
   "source": [
    "disp = plot_confusion_matrix(knn, data['test'][0], data['test'][1], \n",
    "                          labels=(0, 1),\n",
    "                          display_labels=('not covid', 'covid'),\n",
    "                          cmap=plt.cm.Blues\n",
    "                         )\n",
    "\n",
    "# disp.ax_.set_title('Confusion Matrix of KNN score')\n",
    "plt.savefig('../images/knn-confusion-matrix.svg')\n",
    "plt.show()"
   ]
  },
  {
   "cell_type": "code",
   "execution_count": 127,
   "metadata": {},
   "outputs": [
    {
     "data": {
      "text/plain": [
       "0.732013201320132"
      ]
     },
     "execution_count": 127,
     "metadata": {},
     "output_type": "execute_result"
    }
   ],
   "source": [
    "roc_auc_score(y_true, knn.predict_proba(data['test'][0])[..., 1])"
   ]
  },
  {
   "cell_type": "code",
   "execution_count": null,
   "metadata": {},
   "outputs": [],
   "source": []
  },
  {
   "cell_type": "code",
   "execution_count": null,
   "metadata": {},
   "outputs": [],
   "source": []
  }
 ],
 "metadata": {
  "kernelspec": {
   "display_name": "Python 3",
   "language": "python",
   "name": "python3"
  },
  "language_info": {
   "codemirror_mode": {
    "name": "ipython",
    "version": 3
   },
   "file_extension": ".py",
   "mimetype": "text/x-python",
   "name": "python",
   "nbconvert_exporter": "python",
   "pygments_lexer": "ipython3",
   "version": "3.8.5"
  }
 },
 "nbformat": 4,
 "nbformat_minor": 4
}
